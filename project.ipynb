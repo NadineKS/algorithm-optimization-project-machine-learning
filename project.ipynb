{
  "nbformat": 4,
  "nbformat_minor": 0,
  "metadata": {
    "colab": {
      "provenance": []
    },
    "kernelspec": {
      "name": "python3",
      "display_name": "Python 3"
    },
    "language_info": {
      "name": "python"
    }
  },
  "cells": [
    {
      "cell_type": "markdown",
      "source": [
        "#All Imports"
      ],
      "metadata": {
        "id": "3kE5KcUKreft"
      }
    },
    {
      "cell_type": "code",
      "execution_count": 5,
      "metadata": {
        "id": "85IkqdG3rMXe"
      },
      "outputs": [],
      "source": [
        "import string\n",
        "import math\n",
        "from collections import Counter"
      ]
    },
    {
      "cell_type": "code",
      "source": [
        "def remove_punctuation(text):\n",
        "    translator = str.maketrans(\"\", \"\", string.punctuation)\n",
        "    return text.translate(translator)\n",
        "\n",
        "def count_words(text):\n",
        "    palabras = text.split()\n",
        "    return Counter(palabras)\n",
        "\n",
        "def get_most_common(frequencies, n = 5):\n",
        "    return frequencies.most_common(n)\n",
        "\n",
        "def process_text(text):\n",
        "    text = text.lower()\n",
        "    text = remove_punctuation(text)\n",
        "    frequencies = count_words(text)\n",
        "    top_5 = get_most_common(frequencies)\n",
        "    for w, frequency in top_5:\n",
        "        print(f\"'{w}': {frequency} veces\")\n",
        "\n",
        "text = \"\"\"\n",
        "    In the heart of the city, Emily discovered a quaint little café, hidden away from the bustling streets.\n",
        "    The aroma of freshly baked pastries wafted through the air, drawing in passersby. As she sipped on her latte,\n",
        "    she noticed an old bookshelf filled with classics, creating a cozy atmosphere that made her lose track of time.\n",
        "\"\"\"\n",
        "process_text(text)"
      ],
      "metadata": {
        "colab": {
          "base_uri": "https://localhost:8080/"
        },
        "id": "FoVhg2I_r3Dy",
        "outputId": "10d2658d-640a-430f-9a0f-3a2479a2d540"
      },
      "execution_count": 6,
      "outputs": [
        {
          "output_type": "stream",
          "name": "stdout",
          "text": [
            "'the': 5 veces\n",
            "'of': 3 veces\n",
            "'in': 2 veces\n",
            "'a': 2 veces\n",
            "'she': 2 veces\n"
          ]
        }
      ]
    },
    {
      "cell_type": "code",
      "source": [
        "def is_prime(n):\n",
        "    if (n <= 1):\n",
        "        return False\n",
        "    if (n <= 3):\n",
        "        return True\n",
        "    if (n % 2 == 0) or (n % 3 == 0):\n",
        "        return False\n",
        "    i = 5\n",
        "    while ((i * i) <= n):\n",
        "        if (n % i == 0) or (n % (i + 2) == 0):\n",
        "            return False\n",
        "        i += 6\n",
        "    return True\n",
        "\n",
        "def filter_duplicate(list_):\n",
        "    return [num * 2 for num in list_ if num % 2 == 0]\n",
        "\n",
        "def process_list(list_):\n",
        "    duplicate_list = filter_duplicate(list_)\n",
        "    sum_ = sum(duplicate_list)\n",
        "    prime = is_prime(sum_)\n",
        "    return sum_, prime\n",
        "\n",
        "list_ = [1, 2, 3, 4, 5, 6, 7, 8, 9, 10]\n",
        "result, result_prime = process_list(list_)\n",
        "print(f\"Result: {result}, Prime? {'Yes' if result_prime else 'No'}\")"
      ],
      "metadata": {
        "colab": {
          "base_uri": "https://localhost:8080/"
        },
        "id": "zVFbiRM1sMe8",
        "outputId": "47a9d1d1-8c9d-42c6-966e-e8dfc885e968"
      },
      "execution_count": 9,
      "outputs": [
        {
          "output_type": "stream",
          "name": "stdout",
          "text": [
            "Result: 60, Prime? No\n"
          ]
        }
      ]
    }
  ]
}